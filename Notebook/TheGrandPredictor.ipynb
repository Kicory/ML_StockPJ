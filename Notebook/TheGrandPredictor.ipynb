{
  "nbformat": 4,
  "nbformat_minor": 0,
  "metadata": {
    "colab": {
      "name": "Untitled2.ipynb의 사본",
      "provenance": [],
      "collapsed_sections": [],
      "include_colab_link": true
    },
    "kernelspec": {
      "name": "python3",
      "display_name": "Python 3"
    },
    "accelerator": "GPU"
  },
  "cells": [
    {
      "cell_type": "markdown",
      "metadata": {
        "id": "view-in-github",
        "colab_type": "text"
      },
      "source": [
        "<a href=\"https://colab.research.google.com/github/Kicory/ML_StockPJ/blob/master/Notebook/TheGrandPredictor.ipynb\" target=\"_parent\"><img src=\"https://colab.research.google.com/assets/colab-badge.svg\" alt=\"Open In Colab\"/></a>"
      ]
    },
    {
      "cell_type": "markdown",
      "metadata": {
        "id": "3zqvZUNt1O4H",
        "colab_type": "text"
      },
      "source": [
        "# 0.\n",
        "제가 train을 하고 파라미터 파일은 아마도 깃에 올리지 않을까... 생각합니다. 깃이랑 colab이랑 마운트해서 사용할 수 있는 방법이 있을까 계속 찾아봤는데 없는 것 같네요. 귀찮지만..."
      ]
    },
    {
      "cell_type": "code",
      "metadata": {
        "id": "VduFogSU3lyo",
        "colab_type": "code",
        "outputId": "28ff803c-2ef7-4367-a29b-79d6b42c732f",
        "colab": {
          "base_uri": "https://localhost:8080/",
          "height": 35
        }
      },
      "source": [
        "from google.colab import drive\n",
        "\n",
        "drive.mount('/gdrive')\n",
        "gdrive_root = '/gdrive/My Drive'"
      ],
      "execution_count": 1,
      "outputs": [
        {
          "output_type": "stream",
          "text": [
            "Drive already mounted at /gdrive; to attempt to forcibly remount, call drive.mount(\"/gdrive\", force_remount=True).\n"
          ],
          "name": "stdout"
        }
      ]
    },
    {
      "cell_type": "code",
      "metadata": {
        "id": "WApKS_6D3yW2",
        "colab_type": "code",
        "colab": {}
      },
      "source": [
        "import os\n",
        "\n",
        "import torch\n",
        "import torch.optim as optim\n",
        "import torch.nn as nn\n",
        "import torch.nn.functional as F\n",
        "\n",
        "# for teaching force\n",
        "import random\n",
        "\n",
        "# for CSV\n",
        "import pandas as pd\n",
        "import numpy as np\n",
        "\n",
        "# for visual\n",
        "import matplotlib.pyplot as plt\n",
        "\n",
        "#from torch.utils.data import DataLoader"
      ],
      "execution_count": 0,
      "outputs": []
    },
    {
      "cell_type": "code",
      "metadata": {
        "id": "n7H8MY2Ylg1u",
        "colab_type": "code",
        "colab": {}
      },
      "source": [
        "torch.manual_seed(470)\n",
        "torch.cuda.manual_seed(470)"
      ],
      "execution_count": 0,
      "outputs": []
    },
    {
      "cell_type": "code",
      "metadata": {
        "id": "5P9VrHhlQoVV",
        "colab_type": "code",
        "colab": {}
      },
      "source": [
        "device = 'cuda'"
      ],
      "execution_count": 0,
      "outputs": []
    },
    {
      "cell_type": "code",
      "metadata": {
        "id": "Ec3to4uvl3gt",
        "colab_type": "code",
        "colab": {}
      },
      "source": [
        "data_dir = os.path.join(gdrive_root, 'Project/Data')"
      ],
      "execution_count": 0,
      "outputs": []
    },
    {
      "cell_type": "markdown",
      "metadata": {
        "id": "9w05MVJ34eEv",
        "colab_type": "text"
      },
      "source": [
        "# 시작하기\n",
        "이 프로젝트에서는 좀 특이한 방식으로 데이터 처리를 해야 합니다. 이유는 다음과 같습니다.\n",
        "\n",
        "pytorch.nn 의 모듈을 상속받아 만든 클래스로 어떤 모델을 만들었다고 해 봅시다. 해당 모델의 desirable input dimension이 n이라고 합시다.\n",
        "\n",
        "\n",
        "*   minibatch갯수가 1일 때: n차원의 input을 넣으면 정상 작동(당연)\n",
        "*   minibatch갯수가 2이상: n + 1차원의 input을 넣음(???)\n",
        "\n",
        "pytorch가 용하게도 input의 첫 번째 원소를 minibatch의 갯수로 인식하고 input을 minibatch 수만큼 갈라서 병렬 처리를 하는 겁니다. 그러면 input은 n차원의 minibatch개 input으로 나뉘어집니다. 이게 기본 작동 원리입니다.\n",
        "\n",
        "일반적인 방법으로 데이터를 쪼개면 이런 관례에 따라 minibatch 갯수가 첫 차원의 원소로 들어가게 됩니다. 그런데 지금 우리가 가지고 있는 데이터셋을 일반적인 방법으로 쪼갠다면 다음과 같은 모양을 하게 됩니다.\n",
        "\n",
        "*   (minibatch 수, 연속된 주식 정보 갯수, 주식 정보(5))\n",
        "\n",
        "이걸 LSTMCell에 넣으려면 (minibatch, 주식 정보(5))로 가공해서 연속적으로 넣어야 합니다. 그 말인즉슨 0번째 차원과 1번째 원소를 뒤바꿔야 하는데 이거 엄청 비효율입니다.\n",
        "\n",
        "따라서 데이터셋 가공에 신경을 써서 \n",
        "\n",
        "*   (연속된 주식 정보 갯수, minibatch 수, 주식 정보(5))\n",
        "\n",
        "으로 만들어야 합니다."
      ]
    },
    {
      "cell_type": "code",
      "metadata": {
        "id": "6zYHFh8KdTfB",
        "colab_type": "code",
        "colab": {}
      },
      "source": [
        "UsingCols = [1, 3, 7]\n",
        "LSTMHiddenSize_1 = 16\n",
        "DropoutRate = 0.5\n",
        "LSTMHiddenSize_2 = 16\n",
        "GradientClip = 5\n",
        "DATA_PATH = os.path.join(data_dir, 'KOSPI.csv')"
      ],
      "execution_count": 0,
      "outputs": []
    },
    {
      "cell_type": "code",
      "metadata": {
        "id": "7L6N4wAhdb6a",
        "colab_type": "code",
        "colab": {}
      },
      "source": [
        "UsingColsCnt = len(UsingCols)"
      ],
      "execution_count": 0,
      "outputs": []
    },
    {
      "cell_type": "code",
      "metadata": {
        "id": "zJvjHEi9vHkQ",
        "colab_type": "code",
        "colab": {}
      },
      "source": [
        "# 이게 되려나???\n",
        "def getInputData(theFile, length, batchSize):\n",
        "  whole = []\n",
        "  for skipper in range(0, length, 1):\n",
        "    reader = pd.read_csv(theFile, sep=',', chunksize=length * batchSize, usecols=UsingCols, skiprows=skipper)\n",
        "    for chunk in reader:\n",
        "      if chunk.shape[0] != length * batchSize:\n",
        "        break;\n",
        "      whole.append(torch.Tensor(chunk.to_numpy().reshape(batchSize, length, UsingColsCnt).swapaxes(0, 1)))\n",
        "\n",
        "  random.shuffle(whole)\n",
        "  for idx in range(len(whole)):\n",
        "    yield whole[idx]"
      ],
      "execution_count": 0,
      "outputs": []
    },
    {
      "cell_type": "markdown",
      "metadata": {
        "id": "z2sLMumA1J9H",
        "colab_type": "text"
      },
      "source": [
        "# 2. 모델 설명\n",
        "\n",
        "예를 들어 10일간의 주식 정보를 minibatch 4 개로 해서 train 한다.\n",
        "hidden size가 32다.\n",
        "*   x.size() = [10, 4, 5]\n",
        "*   h0.size(), c0.size() = [4, 32] (근데 이건 어차피 0으로 초기화되니 굳이 설정할 필요는 없..)\n",
        "*   futureRatio = 얼마만큼을 '예측할' 그래프로 할 것인지\n",
        " *   0.5라면 절반 만큼은 teacherForcing 100%, 절반은 teacherForcing 적게.\n",
        "*   TFRatio = 예측하는 그래프에서 teacherForcing이 일어날 확률.\n",
        "\n"
      ]
    },
    {
      "cell_type": "code",
      "metadata": {
        "id": "HpGVz98UmImi",
        "colab_type": "code",
        "colab": {}
      },
      "source": [
        "class GrandPredictor(nn.Module):\n",
        "  def __init__(self, hiddenSize_1=16, dropoutRate=0.2, hiddenSize_2=16):\n",
        "    super(GrandPredictor, self).__init__()\n",
        "\n",
        "    self.lstm1 = nn.LSTMCell(UsingColsCnt, hiddenSize_1)\n",
        "    self.dropout = nn.Dropout(p=dropoutRate)\n",
        "    self.lstm2 = nn.LSTMCell(hiddenSize_1, hiddenSize_2)\n",
        "    self.FCout = nn.Linear(hiddenSize_2, UsingColsCnt)\n",
        "\n",
        "  def forward(self, x, h=None, c=None):\n",
        "    if h is None:\n",
        "      h = (None, None)\n",
        "    if c is None:\n",
        "      c = (None, None)\n",
        "    h1, h2 = h\n",
        "    c1, c2 = c\n",
        "\n",
        "    if h1 is None or c1 is None:\n",
        "      h1, c1 = self.lstm1(x)\n",
        "    else:\n",
        "      h1, c1 = self.lstm1(x, (h1, c1))\n",
        "    \n",
        "    h1 = self.dropout(h1)\n",
        "\n",
        "    if h2 is None or c2 is None:\n",
        "      h2, c2 = self.lstm2(h1)\n",
        "    else:\n",
        "      h2, c2 = self.lstm2(h1, (h2, c2))\n",
        "\n",
        "    prediction = self.FCout(h2)\n",
        "    return prediction, (h1, h2), (c1, c2)\n"
      ],
      "execution_count": 0,
      "outputs": []
    },
    {
      "cell_type": "code",
      "metadata": {
        "id": "CpE7Mn21rkSL",
        "colab_type": "code",
        "outputId": "45016647-5206-4764-a531-1a12f62cebf3",
        "colab": {
          "base_uri": "https://localhost:8080/",
          "height": 125
        }
      },
      "source": [
        "predictor = GrandPredictor(LSTMHiddenSize_1, DropoutRate, LSTMHiddenSize_2)\n",
        "predictor = predictor.to(device)\n",
        "\n",
        "# Print your neural network structure\n",
        "print(predictor)\n",
        "\n",
        "optimizer = optim.Adam(predictor.parameters(), lr=0.01)"
      ],
      "execution_count": 32,
      "outputs": [
        {
          "output_type": "stream",
          "text": [
            "GrandPredictor(\n",
            "  (lstm1): LSTMCell(3, 16)\n",
            "  (dropout): Dropout(p=0.5, inplace=False)\n",
            "  (lstm2): LSTMCell(16, 16)\n",
            "  (FCout): Linear(in_features=16, out_features=3, bias=True)\n",
            ")\n"
          ],
          "name": "stdout"
        }
      ]
    },
    {
      "cell_type": "code",
      "metadata": {
        "id": "-97TtZXXt3gc",
        "colab_type": "code",
        "colab": {}
      },
      "source": [
        "ckpt_dir = os.path.join(gdrive_root, 'Project/checkpoints')\n",
        "\n",
        "if not os.path.exists(ckpt_dir):\n",
        "  os.makedirs(ckpt_dir)\n",
        "  \n",
        "best_acc = 0.\n",
        "\n",
        "ckpt_path = os.path.join(ckpt_dir, 'KOSPI_1.pt')\n",
        "if os.path.exists(ckpt_path):\n",
        "  ckpt = torch.load(ckpt_path)\n",
        "  try:\n",
        "    predictor.load_state_dict(ckpt['predictor'])\n",
        "    optimizer.load_state_dict(ckpt['optimizer'])\n",
        "  except RuntimeError as e:\n",
        "      print('wrong checkpoint')\n",
        "  else:    \n",
        "    print('checkpoint is loaded !')"
      ],
      "execution_count": 0,
      "outputs": []
    },
    {
      "cell_type": "code",
      "metadata": {
        "id": "II-520URN7M0",
        "colab_type": "code",
        "colab": {}
      },
      "source": [
        "def predictorTrainer(predictor, x, futureRatio=0.5, TFRatio=0.5):\n",
        "    seqLen = x.size()[0]\n",
        "    output = []\n",
        "    prevPrediction = None\n",
        "    predictFrom = int(seqLen * futureRatio)\n",
        "    \n",
        "    assert predictFrom >= 1, 'No given data, no prediction.'\n",
        "\n",
        "    for day in range(0, predictFrom):\n",
        "      prevPrediction, h, c = predictor(x[day], None, None)\n",
        "      output.append(prevPrediction.clone())\n",
        "    \n",
        "    for day in range(predictFrom, seqLen):\n",
        "      if random.uniform(0, 1) > TFRatio:\n",
        "        # No Teach forcing.\n",
        "        prevPrediction, h, c = predictor(prevPrediction, h, c)\n",
        "      else:\n",
        "        # Yes, Teach forcing.\n",
        "        prevPrediction, h, c = predictor(x[day], h, c)\n",
        "      \n",
        "      output.append(prevPrediction.clone())\n",
        "\n",
        "    return torch.stack(output)"
      ],
      "execution_count": 0,
      "outputs": []
    },
    {
      "cell_type": "code",
      "metadata": {
        "id": "sTqyB5SLlkmt",
        "colab_type": "code",
        "colab": {}
      },
      "source": [
        "maxEpoch = 100\n",
        "batchSize = 32\n",
        "seqLen = 20"
      ],
      "execution_count": 0,
      "outputs": []
    },
    {
      "cell_type": "code",
      "metadata": {
        "id": "I9T-hOvKuoSC",
        "colab_type": "code",
        "outputId": "36d768d4-61ef-4130-c4a0-bdaa3b88fca7",
        "colab": {
          "base_uri": "https://localhost:8080/",
          "height": 370
        }
      },
      "source": [
        "# Training process\n",
        "\n",
        "it = 0\n",
        "predictor.train()\n",
        "\n",
        "losses = []\n",
        "prices = []\n",
        "\n",
        "for epoch in range(maxEpoch):\n",
        "  reader = getInputData(DATA_PATH, seqLen, batchSize)\n",
        "  predictor.train()\n",
        "  for data in reader:\n",
        "\n",
        "    it = it + 1\n",
        "    data = data.to(device);\n",
        "    esti = predictorTrainer(predictor, data.detach(), 0.8, 0)\n",
        "    loss = F.l1_loss(esti, data)\n",
        "    optimizer.zero_grad()\n",
        "    loss.backward()\n",
        "    #torch.nn.utils.clip_grad_norm_(predictor.parameters(), GradientClip)\n",
        "    optimizer.step()\n",
        "    losses.append(loss.item())\n",
        "\n",
        "plt.figure(figsize=(30, 6))\n",
        "plt.plot(losses, label='train loss')\n",
        "plt.show()"
      ],
      "execution_count": 41,
      "outputs": [
        {
          "output_type": "error",
          "ename": "KeyboardInterrupt",
          "evalue": "ignored",
          "traceback": [
            "\u001b[0;31m---------------------------------------------------------------------------\u001b[0m",
            "\u001b[0;31mKeyboardInterrupt\u001b[0m                         Traceback (most recent call last)",
            "\u001b[0;32m<ipython-input-41-a3820a87b374>\u001b[0m in \u001b[0;36m<module>\u001b[0;34m()\u001b[0m\n\u001b[1;32m     18\u001b[0m     \u001b[0mloss\u001b[0m\u001b[0;34m.\u001b[0m\u001b[0mbackward\u001b[0m\u001b[0;34m(\u001b[0m\u001b[0;34m)\u001b[0m\u001b[0;34m\u001b[0m\u001b[0;34m\u001b[0m\u001b[0m\n\u001b[1;32m     19\u001b[0m     \u001b[0;31m#torch.nn.utils.clip_grad_norm_(predictor.parameters(), GradientClip)\u001b[0m\u001b[0;34m\u001b[0m\u001b[0;34m\u001b[0m\u001b[0;34m\u001b[0m\u001b[0m\n\u001b[0;32m---> 20\u001b[0;31m     \u001b[0moptimizer\u001b[0m\u001b[0;34m.\u001b[0m\u001b[0mstep\u001b[0m\u001b[0;34m(\u001b[0m\u001b[0;34m)\u001b[0m\u001b[0;34m\u001b[0m\u001b[0;34m\u001b[0m\u001b[0m\n\u001b[0m\u001b[1;32m     21\u001b[0m     \u001b[0mlosses\u001b[0m\u001b[0;34m.\u001b[0m\u001b[0mappend\u001b[0m\u001b[0;34m(\u001b[0m\u001b[0mloss\u001b[0m\u001b[0;34m.\u001b[0m\u001b[0mitem\u001b[0m\u001b[0;34m(\u001b[0m\u001b[0;34m)\u001b[0m\u001b[0;34m)\u001b[0m\u001b[0;34m\u001b[0m\u001b[0;34m\u001b[0m\u001b[0m\n\u001b[1;32m     22\u001b[0m \u001b[0;34m\u001b[0m\u001b[0m\n",
            "\u001b[0;32m/usr/local/lib/python3.6/dist-packages/torch/optim/adam.py\u001b[0m in \u001b[0;36mstep\u001b[0;34m(self, closure)\u001b[0m\n\u001b[1;32m     93\u001b[0m \u001b[0;34m\u001b[0m\u001b[0m\n\u001b[1;32m     94\u001b[0m                 \u001b[0;31m# Decay the first and second moment running average coefficient\u001b[0m\u001b[0;34m\u001b[0m\u001b[0;34m\u001b[0m\u001b[0;34m\u001b[0m\u001b[0m\n\u001b[0;32m---> 95\u001b[0;31m                 \u001b[0mexp_avg\u001b[0m\u001b[0;34m.\u001b[0m\u001b[0mmul_\u001b[0m\u001b[0;34m(\u001b[0m\u001b[0mbeta1\u001b[0m\u001b[0;34m)\u001b[0m\u001b[0;34m.\u001b[0m\u001b[0madd_\u001b[0m\u001b[0;34m(\u001b[0m\u001b[0;36m1\u001b[0m \u001b[0;34m-\u001b[0m \u001b[0mbeta1\u001b[0m\u001b[0;34m,\u001b[0m \u001b[0mgrad\u001b[0m\u001b[0;34m)\u001b[0m\u001b[0;34m\u001b[0m\u001b[0;34m\u001b[0m\u001b[0m\n\u001b[0m\u001b[1;32m     96\u001b[0m                 \u001b[0mexp_avg_sq\u001b[0m\u001b[0;34m.\u001b[0m\u001b[0mmul_\u001b[0m\u001b[0;34m(\u001b[0m\u001b[0mbeta2\u001b[0m\u001b[0;34m)\u001b[0m\u001b[0;34m.\u001b[0m\u001b[0maddcmul_\u001b[0m\u001b[0;34m(\u001b[0m\u001b[0;36m1\u001b[0m \u001b[0;34m-\u001b[0m \u001b[0mbeta2\u001b[0m\u001b[0;34m,\u001b[0m \u001b[0mgrad\u001b[0m\u001b[0;34m,\u001b[0m \u001b[0mgrad\u001b[0m\u001b[0;34m)\u001b[0m\u001b[0;34m\u001b[0m\u001b[0;34m\u001b[0m\u001b[0m\n\u001b[1;32m     97\u001b[0m                 \u001b[0;32mif\u001b[0m \u001b[0mamsgrad\u001b[0m\u001b[0;34m:\u001b[0m\u001b[0;34m\u001b[0m\u001b[0;34m\u001b[0m\u001b[0m\n",
            "\u001b[0;31mKeyboardInterrupt\u001b[0m: "
          ]
        }
      ]
    },
    {
      "cell_type": "code",
      "metadata": {
        "id": "b5BN6RwIergM",
        "colab_type": "code",
        "colab": {}
      },
      "source": [
        "0ckpt_dir = os.path.join(gdrive_root, 'Project/checkpoints/')\n",
        "ckpt_path = os.path.join(ckpt_dir, '6_1.pt')\n",
        "ckpt = {'predictor':predictor.state_dict(),\n",
        "        'optimizer':optimizer.state_dict()}\n",
        "torch.save(ckpt, ckpt_path)"
      ],
      "execution_count": 0,
      "outputs": []
    },
    {
      "cell_type": "code",
      "metadata": {
        "id": "916qtfuIF9ow",
        "colab_type": "code",
        "colab": {}
      },
      "source": [
        "def testDataLoader(theFile):\n",
        "  reader = pd.read_csv(theFile, sep=',', chunksize=1, usecols=UsingCols)\n",
        "  for chunk in reader:\n",
        "    yield torch.Tensor(chunk.to_numpy())"
      ],
      "execution_count": 0,
      "outputs": []
    },
    {
      "cell_type": "code",
      "metadata": {
        "id": "S-j1nNUuFfBR",
        "colab_type": "code",
        "outputId": "7add0df5-515c-44a1-a20b-98716c062224",
        "colab": {
          "base_uri": "https://localhost:8080/",
          "height": 1000
        }
      },
      "source": [
        "from google.colab import widgets\n",
        "\n",
        "def drawStepFig(trueCnt, estiCnt, grid):\n",
        "  predictor.eval()\n",
        "\n",
        "  trueData = []\n",
        "  trueVals = []\n",
        "  estiVals = []\n",
        "  reader = testDataLoader(DATA_PATH)\n",
        "\n",
        "  h = None\n",
        "  c = None\n",
        "\n",
        "  trueLen = 0\n",
        "  fullLen = trueCnt + estiCnt\n",
        "  dayCnt = 0\n",
        "\n",
        "  for data in reader:\n",
        "    h = None\n",
        "    c = None\n",
        "\n",
        "    dayCnt = dayCnt + 1\n",
        "\n",
        "    data = data.to(device)\n",
        "    trueVals.append(data[0][0].item())\n",
        "    trueData.append(data)\n",
        "    trueLen = trueLen + 1\n",
        "\n",
        "    if trueLen > fullLen:\n",
        "      trueVals.pop(0)\n",
        "      trueData.pop(0)\n",
        "      trueLen = trueLen - 1\n",
        "    if trueLen < fullLen:\n",
        "      continue\n",
        "    \n",
        "    for day in range(trueCnt):\n",
        "      estiData, h, c = predictor(trueData[day], h, c)\n",
        "\n",
        "    estiVals.clear()\n",
        "    for day in range(estiCnt - 1):\n",
        "      estiVals.append(estiData[0][0].item())\n",
        "      estiData, h, c = predictor(estiData, h, c)\n",
        "    estiVals.append(estiData[0][0].item())\n",
        "\n",
        "    startDay = max(0, dayCnt - (fullLen))\n",
        "    endDay = max(dayCnt, fullLen)\n",
        "    xAxis = [i for i in range(startDay, endDay)]\n",
        "    \n",
        "    if dayCnt % 100 == 0:\n",
        "      with grid.output_to(0, 0):\n",
        "        plt.figure(figsize=(30, 6))\n",
        "        plt.plot(xAxis, trueVals + [None for i in range(fullLen - trueLen)], '-r')\n",
        "        plt.plot(xAxis, [None for i in range(trueCnt)] + estiVals, '-b')\n",
        "        plt.plot(xAxis, [1 for i in range(fullLen)], ':g')\n",
        "        #plt.ylim(0.9, 1.1)\n",
        "        plt.show()\n",
        "\n",
        "grid = widgets.Grid(1, 1)\n",
        "drawStepFig(16, 4, grid);"
      ],
      "execution_count": 39,
      "outputs": [
        {
          "output_type": "display_data",
          "data": {
            "text/html": [
              "<style>\n",
              "       table#id2, #id2 > tbody > tr > th, #id2 > tbody > tr > td {\n",
              "         border: 1px solid lightgray;\n",
              "         border-collapse:collapse;\n",
              "         \n",
              "        }</style>"
            ],
            "text/plain": [
              "<IPython.core.display.HTML object>"
            ]
          },
          "metadata": {
            "tags": [
              "outputarea_id2"
            ]
          }
        },
        {
          "output_type": "display_data",
          "data": {
            "text/html": [
              "<table id=id2><tr><td id=id2-0-0></td></tr></table>"
            ],
            "text/plain": [
              "<IPython.core.display.HTML object>"
            ]
          },
          "metadata": {
            "tags": [
              "outputarea_id2"
            ]
          }
        },
        {
          "output_type": "display_data",
          "data": {
            "application/javascript": [
              "window[\"e4e55b22-0b7a-11ea-a7f2-0242ac1c0002\"] = google.colab.output.getActiveOutputArea();\n",
              "//# sourceURL=js_5cc8a6998c"
            ],
            "text/plain": [
              "<IPython.core.display.Javascript object>"
            ]
          },
          "metadata": {
            "tags": [
              "id2-0-0",
              "outputarea_id2"
            ]
          }
        },
        {
          "output_type": "display_data",
          "data": {
            "application/javascript": [
              "window[\"e4e594ca-0b7a-11ea-a7f2-0242ac1c0002\"] = document.querySelector(\"#id2-0-0\");\n",
              "//# sourceURL=js_2fc435dff6"
            ],
            "text/plain": [
              "<IPython.core.display.Javascript object>"
            ]
          },
          "metadata": {
            "tags": [
              "id2-0-0",
              "outputarea_id2"
            ]
          }
        },
        {
          "output_type": "display_data",
          "data": {
            "application/javascript": [
              "window[\"e4e5c6ac-0b7a-11ea-a7f2-0242ac1c0002\"] = google.colab.output.setActiveOutputArea(window[\"e4e594ca-0b7a-11ea-a7f2-0242ac1c0002\"]);\n",
              "//# sourceURL=js_395be1894c"
            ],
            "text/plain": [
              "<IPython.core.display.Javascript object>"
            ]
          },
          "metadata": {
            "tags": [
              "id2-0-0",
              "outputarea_id2"
            ]
          }
        },
        {
          "output_type": "display_data",
          "data": {
            "image/png": "[encoded data removed]",
            "text/plain": [
              "<Figure size 2160x432 with 1 Axes>"
            ]
          },
          "metadata": {
            "tags": [
              "id2-0-0",
              "outputarea_id2",
              "user_output"
            ]
          }
        },
        {
          "output_type": "display_data",
          "data": {
            "application/javascript": [
              "window[\"e5134474-0b7a-11ea-a7f2-0242ac1c0002\"] = google.colab.output.setActiveOutputArea(window[\"e4e55b22-0b7a-11ea-a7f2-0242ac1c0002\"]);\n",
              "//# sourceURL=js_720c55e17c"
            ],
            "text/plain": [
              "<IPython.core.display.Javascript object>"
            ]
          },
          "metadata": {
            "tags": [
              "id2-0-0",
              "outputarea_id2"
            ]
          }
        },
        {
          "output_type": "display_data",
          "data": {
            "application/javascript": [
              "window[\"e577d114-0b7a-11ea-a7f2-0242ac1c0002\"] = google.colab.output.getActiveOutputArea();\n",
              "//# sourceURL=js_e4e86a7b18"
            ],
            "text/plain": [
              "<IPython.core.display.Javascript object>"
            ]
          },
          "metadata": {
            "tags": [
              "id2-0-0",
              "outputarea_id2"
            ]
          }
        },
        {
          "output_type": "display_data",
          "data": {
            "application/javascript": [
              "window[\"e5781e62-0b7a-11ea-a7f2-0242ac1c0002\"] = document.querySelector(\"#id2-0-0\");\n",
              "//# sourceURL=js_113c2f25eb"
            ],
            "text/plain": [
              "<IPython.core.display.Javascript object>"
            ]
          },
          "metadata": {
            "tags": [
              "id2-0-0",
              "outputarea_id2"
            ]
          }
        },
        {
          "output_type": "display_data",
          "data": {
            "application/javascript": [
              "window[\"e5785814-0b7a-11ea-a7f2-0242ac1c0002\"] = google.colab.output.setActiveOutputArea(window[\"e5781e62-0b7a-11ea-a7f2-0242ac1c0002\"]);\n",
              "//# sourceURL=js_2adcb0b54c"
            ],
            "text/plain": [
              "<IPython.core.display.Javascript object>"
            ]
          },
          "metadata": {
            "tags": [
              "id2-0-0",
              "outputarea_id2"
            ]
          }
        },
        {
          "output_type": "display_data",
          "data": {
            "image/png": "[encoded data removed]",
            "text/plain": [
              "<Figure size 2160x432 with 1 Axes>"
            ]
          },
          "metadata": {
            "tags": [
              "id2-0-0",
              "outputarea_id2",
              "user_output"
            ]
          }
        },
        {
          "output_type": "display_data",
          "data": {
            "application/javascript": [
              "window[\"e5a7d896-0b7a-11ea-a7f2-0242ac1c0002\"] = google.colab.output.setActiveOutputArea(window[\"e577d114-0b7a-11ea-a7f2-0242ac1c0002\"]);\n",
              "//# sourceURL=js_2d25896140"
            ],
            "text/plain": [
              "<IPython.core.display.Javascript object>"
            ]
          },
          "metadata": {
            "tags": [
              "id2-0-0",
              "outputarea_id2"
            ]
          }
        },
        {
          "output_type": "display_data",
          "data": {
            "application/javascript": [
              "window[\"e60e2d4e-0b7a-11ea-a7f2-0242ac1c0002\"] = google.colab.output.getActiveOutputArea();\n",
              "//# sourceURL=js_5f598afa13"
            ],
            "text/plain": [
              "<IPython.core.display.Javascript object>"
            ]
          },
          "metadata": {
            "tags": [
              "id2-0-0",
              "outputarea_id2"
            ]
          }
        },
        {
          "output_type": "display_data",
          "data": {
            "application/javascript": [
              "window[\"e60e7592-0b7a-11ea-a7f2-0242ac1c0002\"] = document.querySelector(\"#id2-0-0\");\n",
              "//# sourceURL=js_14b69cc76b"
            ],
            "text/plain": [
              "<IPython.core.display.Javascript object>"
            ]
          },
          "metadata": {
            "tags": [
              "id2-0-0",
              "outputarea_id2"
            ]
          }
        },
        {
          "output_type": "display_data",
          "data": {
            "application/javascript": [
              "window[\"e60eaa94-0b7a-11ea-a7f2-0242ac1c0002\"] = google.colab.output.setActiveOutputArea(window[\"e60e7592-0b7a-11ea-a7f2-0242ac1c0002\"]);\n",
              "//# sourceURL=js_dca44981f1"
            ],
            "text/plain": [
              "<IPython.core.display.Javascript object>"
            ]
          },
          "metadata": {
            "tags": [
              "id2-0-0",
              "outputarea_id2"
            ]
          }
        },
        {
          "output_type": "display_data",
          "data": {
            "image/png": "[encoded data removed]",
            "text/plain": [
              "<Figure size 2160x432 with 1 Axes>"
            ]
          },
          "metadata": {
            "tags": [
              "id2-0-0",
              "outputarea_id2",
              "user_output"
            ]
          }
        },
        {
          "output_type": "display_data",
          "data": {
            "application/javascript": [
              "window[\"e63e2da0-0b7a-11ea-a7f2-0242ac1c0002\"] = google.colab.output.setActiveOutputArea(window[\"e60e2d4e-0b7a-11ea-a7f2-0242ac1c0002\"]);\n",
              "//# sourceURL=js_2e60971b52"
            ],
            "text/plain": [
              "<IPython.core.display.Javascript object>"
            ]
          },
          "metadata": {
            "tags": [
              "id2-0-0",
              "outputarea_id2"
            ]
          }
        },
        {
          "output_type": "display_data",
          "data": {
            "application/javascript": [
              "window[\"e6a2e5ce-0b7a-11ea-a7f2-0242ac1c0002\"] = google.colab.output.getActiveOutputArea();\n",
              "//# sourceURL=js_dd8eda6d88"
            ],
            "text/plain": [
              "<IPython.core.display.Javascript object>"
            ]
          },
          "metadata": {
            "tags": [
              "id2-0-0",
              "outputarea_id2"
            ]
          }
        },
        {
          "output_type": "display_data",
          "data": {
            "application/javascript": [
              "window[\"e6a334c0-0b7a-11ea-a7f2-0242ac1c0002\"] = document.querySelector(\"#id2-0-0\");\n",
              "//# sourceURL=js_ca4c6ad0a7"
            ],
            "text/plain": [
              "<IPython.core.display.Javascript object>"
            ]
          },
          "metadata": {
            "tags": [
              "id2-0-0",
              "outputarea_id2"
            ]
          }
        },
        {
          "output_type": "display_data",
          "data": {
            "application/javascript": [
              "window[\"e6a36c56-0b7a-11ea-a7f2-0242ac1c0002\"] = google.colab.output.setActiveOutputArea(window[\"e6a334c0-0b7a-11ea-a7f2-0242ac1c0002\"]);\n",
              "//# sourceURL=js_e0e0a75e64"
            ],
            "text/plain": [
              "<IPython.core.display.Javascript object>"
            ]
          },
          "metadata": {
            "tags": [
              "id2-0-0",
              "outputarea_id2"
            ]
          }
        },
        {
          "output_type": "display_data",
          "data": {
            "image/png": "[encoded data removed]",
            "text/plain": [
              "<Figure size 2160x432 with 1 Axes>"
            ]
          },
          "metadata": {
            "tags": [
              "id2-0-0",
              "outputarea_id2",
              "user_output"
            ]
          }
        },
        {
          "output_type": "display_data",
          "data": {
            "application/javascript": [
              "window[\"e6d22e74-0b7a-11ea-a7f2-0242ac1c0002\"] = google.colab.output.setActiveOutputArea(window[\"e6a2e5ce-0b7a-11ea-a7f2-0242ac1c0002\"]);\n",
              "//# sourceURL=js_7fa6a790f2"
            ],
            "text/plain": [
              "<IPython.core.display.Javascript object>"
            ]
          },
          "metadata": {
            "tags": [
              "id2-0-0",
              "outputarea_id2"
            ]
          }
        },
        {
          "output_type": "display_data",
          "data": {
            "application/javascript": [
              "window[\"e734b6ca-0b7a-11ea-a7f2-0242ac1c0002\"] = google.colab.output.getActiveOutputArea();\n",
              "//# sourceURL=js_173b4a00da"
            ],
            "text/plain": [
              "<IPython.core.display.Javascript object>"
            ]
          },
          "metadata": {
            "tags": [
              "id2-0-0",
              "outputarea_id2"
            ]
          }
        },
        {
          "output_type": "display_data",
          "data": {
            "application/javascript": [
              "window[\"e734e730-0b7a-11ea-a7f2-0242ac1c0002\"] = document.querySelector(\"#id2-0-0\");\n",
              "//# sourceURL=js_fa78f6c94d"
            ],
            "text/plain": [
              "<IPython.core.display.Javascript object>"
            ]
          },
          "metadata": {
            "tags": [
              "id2-0-0",
              "outputarea_id2"
            ]
          }
        },
        {
          "output_type": "display_data",
          "data": {
            "application/javascript": [
              "window[\"e735169c-0b7a-11ea-a7f2-0242ac1c0002\"] = google.colab.output.setActiveOutputArea(window[\"e734e730-0b7a-11ea-a7f2-0242ac1c0002\"]);\n",
              "//# sourceURL=js_8b829f0cb1"
            ],
            "text/plain": [
              "<IPython.core.display.Javascript object>"
            ]
          },
          "metadata": {
            "tags": [
              "id2-0-0",
              "outputarea_id2"
            ]
          }
        },
        {
          "output_type": "display_data",
          "data": {
            "image/png": "[encoded data removed]",
            "text/plain": [
              "<Figure size 2160x432 with 1 Axes>"
            ]
          },
          "metadata": {
            "tags": [
              "id2-0-0",
              "outputarea_id2",
              "user_output"
            ]
          }
        },
        {
          "output_type": "display_data",
          "data": {
            "application/javascript": [
              "window[\"e762c02e-0b7a-11ea-a7f2-0242ac1c0002\"] = google.colab.output.setActiveOutputArea(window[\"e734b6ca-0b7a-11ea-a7f2-0242ac1c0002\"]);\n",
              "//# sourceURL=js_afa9d3885a"
            ],
            "text/plain": [
              "<IPython.core.display.Javascript object>"
            ]
          },
          "metadata": {
            "tags": [
              "id2-0-0",
              "outputarea_id2"
            ]
          }
        },
        {
          "output_type": "display_data",
          "data": {
            "application/javascript": [
              "window[\"e7cbc308-0b7a-11ea-a7f2-0242ac1c0002\"] = google.colab.output.getActiveOutputArea();\n",
              "//# sourceURL=js_6af318a1bd"
            ],
            "text/plain": [
              "<IPython.core.display.Javascript object>"
            ]
          },
          "metadata": {
            "tags": [
              "id2-0-0",
              "outputarea_id2"
            ]
          }
        },
        {
          "output_type": "display_data",
          "data": {
            "application/javascript": [
              "window[\"e7cbf85a-0b7a-11ea-a7f2-0242ac1c0002\"] = document.querySelector(\"#id2-0-0\");\n",
              "//# sourceURL=js_1b6f2ba742"
            ],
            "text/plain": [
              "<IPython.core.display.Javascript object>"
            ]
          },
          "metadata": {
            "tags": [
              "id2-0-0",
              "outputarea_id2"
            ]
          }
        },
        {
          "output_type": "display_data",
          "data": {
            "application/javascript": [
              "window[\"e7cc2816-0b7a-11ea-a7f2-0242ac1c0002\"] = google.colab.output.setActiveOutputArea(window[\"e7cbf85a-0b7a-11ea-a7f2-0242ac1c0002\"]);\n",
              "//# sourceURL=js_1e9a2199b2"
            ],
            "text/plain": [
              "<IPython.core.display.Javascript object>"
            ]
          },
          "metadata": {
            "tags": [
              "id2-0-0",
              "outputarea_id2"
            ]
          }
        },
        {
          "output_type": "display_data",
          "data": {
            "image/png": "[encoded data removed]",
            "text/plain": [
              "<Figure size 2160x432 with 1 Axes>"
            ]
          },
          "metadata": {
            "tags": [
              "id2-0-0",
              "outputarea_id2",
              "user_output"
            ]
          }
        },
        {
          "output_type": "display_data",
          "data": {
            "application/javascript": [
              "window[\"e7fc05f4-0b7a-11ea-a7f2-0242ac1c0002\"] = google.colab.output.setActiveOutputArea(window[\"e7cbc308-0b7a-11ea-a7f2-0242ac1c0002\"]);\n",
              "//# sourceURL=js_5f7b73b338"
            ],
            "text/plain": [
              "<IPython.core.display.Javascript object>"
            ]
          },
          "metadata": {
            "tags": [
              "id2-0-0",
              "outputarea_id2"
            ]
          }
        },
        {
          "output_type": "display_data",
          "data": {
            "application/javascript": [
              "window[\"e862ae6c-0b7a-11ea-a7f2-0242ac1c0002\"] = google.colab.output.getActiveOutputArea();\n",
              "//# sourceURL=js_2c4f879298"
            ],
            "text/plain": [
              "<IPython.core.display.Javascript object>"
            ]
          },
          "metadata": {
            "tags": [
              "id2-0-0",
              "outputarea_id2"
            ]
          }
        },
        {
          "output_type": "display_data",
          "data": {
            "application/javascript": [
              "window[\"e862e1a2-0b7a-11ea-a7f2-0242ac1c0002\"] = document.querySelector(\"#id2-0-0\");\n",
              "//# sourceURL=js_6d4d43d664"
            ],
            "text/plain": [
              "<IPython.core.display.Javascript object>"
            ]
          },
          "metadata": {
            "tags": [
              "id2-0-0",
              "outputarea_id2"
            ]
          }
        },
        {
          "output_type": "display_data",
          "data": {
            "application/javascript": [
              "window[\"e8631168-0b7a-11ea-a7f2-0242ac1c0002\"] = google.colab.output.setActiveOutputArea(window[\"e862e1a2-0b7a-11ea-a7f2-0242ac1c0002\"]);\n",
              "//# sourceURL=js_3614abf30d"
            ],
            "text/plain": [
              "<IPython.core.display.Javascript object>"
            ]
          },
          "metadata": {
            "tags": [
              "id2-0-0",
              "outputarea_id2"
            ]
          }
        },
        {
          "output_type": "display_data",
          "data": {
            "image/png": "[encoded data removed]",
            "text/plain": [
              "<Figure size 2160x432 with 1 Axes>"
            ]
          },
          "metadata": {
            "tags": [
              "id2-0-0",
              "outputarea_id2",
              "user_output"
            ]
          }
        },
        {
          "output_type": "display_data",
          "data": {
            "application/javascript": [
              "window[\"e89332ee-0b7a-11ea-a7f2-0242ac1c0002\"] = google.colab.output.setActiveOutputArea(window[\"e862ae6c-0b7a-11ea-a7f2-0242ac1c0002\"]);\n",
              "//# sourceURL=js_6e4cb9b01b"
            ],
            "text/plain": [
              "<IPython.core.display.Javascript object>"
            ]
          },
          "metadata": {
            "tags": [
              "id2-0-0",
              "outputarea_id2"
            ]
          }
        },
        {
          "output_type": "display_data",
          "data": {
            "application/javascript": [
              "window[\"e8f89738-0b7a-11ea-a7f2-0242ac1c0002\"] = google.colab.output.getActiveOutputArea();\n",
              "//# sourceURL=js_13be144747"
            ],
            "text/plain": [
              "<IPython.core.display.Javascript object>"
            ]
          },
          "metadata": {
            "tags": [
              "id2-0-0",
              "outputarea_id2"
            ]
          }
        },
        {
          "output_type": "display_data",
          "data": {
            "application/javascript": [
              "window[\"e8f8c8c0-0b7a-11ea-a7f2-0242ac1c0002\"] = document.querySelector(\"#id2-0-0\");\n",
              "//# sourceURL=js_035adc9638"
            ],
            "text/plain": [
              "<IPython.core.display.Javascript object>"
            ]
          },
          "metadata": {
            "tags": [
              "id2-0-0",
              "outputarea_id2"
            ]
          }
        },
        {
          "output_type": "display_data",
          "data": {
            "application/javascript": [
              "window[\"e8f8f444-0b7a-11ea-a7f2-0242ac1c0002\"] = google.colab.output.setActiveOutputArea(window[\"e8f8c8c0-0b7a-11ea-a7f2-0242ac1c0002\"]);\n",
              "//# sourceURL=js_9e98f9ed9e"
            ],
            "text/plain": [
              "<IPython.core.display.Javascript object>"
            ]
          },
          "metadata": {
            "tags": [
              "id2-0-0",
              "outputarea_id2"
            ]
          }
        },
        {
          "output_type": "display_data",
          "data": {
            "image/png": "[encoded data removed]",
            "text/plain": [
              "<Figure size 2160x432 with 1 Axes>"
            ]
          },
          "metadata": {
            "tags": [
              "id2-0-0",
              "outputarea_id2",
              "user_output"
            ]
          }
        },
        {
          "output_type": "display_data",
          "data": {
            "application/javascript": [
              "window[\"e927db06-0b7a-11ea-a7f2-0242ac1c0002\"] = google.colab.output.setActiveOutputArea(window[\"e8f89738-0b7a-11ea-a7f2-0242ac1c0002\"]);\n",
              "//# sourceURL=js_21b2234aaa"
            ],
            "text/plain": [
              "<IPython.core.display.Javascript object>"
            ]
          },
          "metadata": {
            "tags": [
              "id2-0-0",
              "outputarea_id2"
            ]
          }
        },
        {
          "output_type": "display_data",
          "data": {
            "application/javascript": [
              "window[\"e98e251e-0b7a-11ea-a7f2-0242ac1c0002\"] = google.colab.output.getActiveOutputArea();\n",
              "//# sourceURL=js_f108918645"
            ],
            "text/plain": [
              "<IPython.core.display.Javascript object>"
            ]
          },
          "metadata": {
            "tags": [
              "id2-0-0",
              "outputarea_id2"
            ]
          }
        },
        {
          "output_type": "display_data",
          "data": {
            "application/javascript": [
              "window[\"e98e5b1a-0b7a-11ea-a7f2-0242ac1c0002\"] = document.querySelector(\"#id2-0-0\");\n",
              "//# sourceURL=js_21650f3bc3"
            ],
            "text/plain": [
              "<IPython.core.display.Javascript object>"
            ]
          },
          "metadata": {
            "tags": [
              "id2-0-0",
              "outputarea_id2"
            ]
          }
        },
        {
          "output_type": "display_data",
          "data": {
            "application/javascript": [
              "window[\"e98e8b44-0b7a-11ea-a7f2-0242ac1c0002\"] = google.colab.output.setActiveOutputArea(window[\"e98e5b1a-0b7a-11ea-a7f2-0242ac1c0002\"]);\n",
              "//# sourceURL=js_cbee61d84a"
            ],
            "text/plain": [
              "<IPython.core.display.Javascript object>"
            ]
          },
          "metadata": {
            "tags": [
              "id2-0-0",
              "outputarea_id2"
            ]
          }
        },
        {
          "output_type": "display_data",
          "data": {
            "image/png": "[encoded data removed]",
            "text/plain": [
              "<Figure size 2160x432 with 1 Axes>"
            ]
          },
          "metadata": {
            "tags": [
              "id2-0-0",
              "outputarea_id2",
              "user_output"
            ]
          }
        },
        {
          "output_type": "display_data",
          "data": {
            "application/javascript": [
              "window[\"e9bcfede-0b7a-11ea-a7f2-0242ac1c0002\"] = google.colab.output.setActiveOutputArea(window[\"e98e251e-0b7a-11ea-a7f2-0242ac1c0002\"]);\n",
              "//# sourceURL=js_a4c94176c2"
            ],
            "text/plain": [
              "<IPython.core.display.Javascript object>"
            ]
          },
          "metadata": {
            "tags": [
              "id2-0-0",
              "outputarea_id2"
            ]
          }
        },
        {
          "output_type": "display_data",
          "data": {
            "application/javascript": [
              "window[\"ea22ad88-0b7a-11ea-a7f2-0242ac1c0002\"] = google.colab.output.getActiveOutputArea();\n",
              "//# sourceURL=js_99946c054c"
            ],
            "text/plain": [
              "<IPython.core.display.Javascript object>"
            ]
          },
          "metadata": {
            "tags": [
              "id2-0-0",
              "outputarea_id2"
            ]
          }
        },
        {
          "output_type": "display_data",
          "data": {
            "application/javascript": [
              "window[\"ea22df92-0b7a-11ea-a7f2-0242ac1c0002\"] = document.querySelector(\"#id2-0-0\");\n",
              "//# sourceURL=js_573190f368"
            ],
            "text/plain": [
              "<IPython.core.display.Javascript object>"
            ]
          },
          "metadata": {
            "tags": [
              "id2-0-0",
              "outputarea_id2"
            ]
          }
        },
        {
          "output_type": "display_data",
          "data": {
            "application/javascript": [
              "window[\"ea230dd2-0b7a-11ea-a7f2-0242ac1c0002\"] = google.colab.output.setActiveOutputArea(window[\"ea22df92-0b7a-11ea-a7f2-0242ac1c0002\"]);\n",
              "//# sourceURL=js_50aaec07d1"
            ],
            "text/plain": [
              "<IPython.core.display.Javascript object>"
            ]
          },
          "metadata": {
            "tags": [
              "id2-0-0",
              "outputarea_id2"
            ]
          }
        },
        {
          "output_type": "display_data",
          "data": {
            "image/png": "[encoded data removed]",
            "text/plain": [
              "<Figure size 2160x432 with 1 Axes>"
            ]
          },
          "metadata": {
            "tags": [
              "id2-0-0",
              "outputarea_id2",
              "user_output"
            ]
          }
        },
        {
          "output_type": "display_data",
          "data": {
            "application/javascript": [
              "window[\"ea5bd82e-0b7a-11ea-a7f2-0242ac1c0002\"] = google.colab.output.setActiveOutputArea(window[\"ea22ad88-0b7a-11ea-a7f2-0242ac1c0002\"]);\n",
              "//# sourceURL=js_1060983631"
            ],
            "text/plain": [
              "<IPython.core.display.Javascript object>"
            ]
          },
          "metadata": {
            "tags": [
              "id2-0-0",
              "outputarea_id2"
            ]
          }
        },
        {
          "output_type": "display_data",
          "data": {
            "application/javascript": [
              "window[\"eac164c8-0b7a-11ea-a7f2-0242ac1c0002\"] = google.colab.output.getActiveOutputArea();\n",
              "//# sourceURL=js_1111ec98fc"
            ],
            "text/plain": [
              "<IPython.core.display.Javascript object>"
            ]
          },
          "metadata": {
            "tags": [
              "id2-0-0",
              "outputarea_id2"
            ]
          }
        },
        {
          "output_type": "display_data",
          "data": {
            "application/javascript": [
              "window[\"eac199de-0b7a-11ea-a7f2-0242ac1c0002\"] = document.querySelector(\"#id2-0-0\");\n",
              "//# sourceURL=js_a47ab1b39a"
            ],
            "text/plain": [
              "<IPython.core.display.Javascript object>"
            ]
          },
          "metadata": {
            "tags": [
              "id2-0-0",
              "outputarea_id2"
            ]
          }
        },
        {
          "output_type": "display_data",
          "data": {
            "application/javascript": [
              "window[\"eac1c4fe-0b7a-11ea-a7f2-0242ac1c0002\"] = google.colab.output.setActiveOutputArea(window[\"eac199de-0b7a-11ea-a7f2-0242ac1c0002\"]);\n",
              "//# sourceURL=js_af0347f2a0"
            ],
            "text/plain": [
              "<IPython.core.display.Javascript object>"
            ]
          },
          "metadata": {
            "tags": [
              "id2-0-0",
              "outputarea_id2"
            ]
          }
        },
        {
          "output_type": "display_data",
          "data": {
            "image/png": "[encoded data removed]",
            "text/plain": [
              "<Figure size 2160x432 with 1 Axes>"
            ]
          },
          "metadata": {
            "tags": [
              "id2-0-0",
              "outputarea_id2",
              "user_output"
            ]
          }
        },
        {
          "output_type": "display_data",
          "data": {
            "application/javascript": [
              "window[\"eaf094aa-0b7a-11ea-a7f2-0242ac1c0002\"] = google.colab.output.setActiveOutputArea(window[\"eac164c8-0b7a-11ea-a7f2-0242ac1c0002\"]);\n",
              "//# sourceURL=js_0b54e2a570"
            ],
            "text/plain": [
              "<IPython.core.display.Javascript object>"
            ]
          },
          "metadata": {
            "tags": [
              "id2-0-0",
              "outputarea_id2"
            ]
          }
        },
        {
          "output_type": "display_data",
          "data": {
            "application/javascript": [
              "window[\"eb5759ec-0b7a-11ea-a7f2-0242ac1c0002\"] = google.colab.output.getActiveOutputArea();\n",
              "//# sourceURL=js_b812cc1fb9"
            ],
            "text/plain": [
              "<IPython.core.display.Javascript object>"
            ]
          },
          "metadata": {
            "tags": [
              "id2-0-0",
              "outputarea_id2"
            ]
          }
        },
        {
          "output_type": "display_data",
          "data": {
            "application/javascript": [
              "window[\"eb578e08-0b7a-11ea-a7f2-0242ac1c0002\"] = document.querySelector(\"#id2-0-0\");\n",
              "//# sourceURL=js_92b537e02c"
            ],
            "text/plain": [
              "<IPython.core.display.Javascript object>"
            ]
          },
          "metadata": {
            "tags": [
              "id2-0-0",
              "outputarea_id2"
            ]
          }
        },
        {
          "output_type": "display_data",
          "data": {
            "application/javascript": [
              "window[\"eb57bac2-0b7a-11ea-a7f2-0242ac1c0002\"] = google.colab.output.setActiveOutputArea(window[\"eb578e08-0b7a-11ea-a7f2-0242ac1c0002\"]);\n",
              "//# sourceURL=js_8f8b7244cd"
            ],
            "text/plain": [
              "<IPython.core.display.Javascript object>"
            ]
          },
          "metadata": {
            "tags": [
              "id2-0-0",
              "outputarea_id2"
            ]
          }
        },
        {
          "output_type": "display_data",
          "data": {
            "image/png": "[encoded data removed]",
            "text/plain": [
              "<Figure size 2160x432 with 1 Axes>"
            ]
          },
          "metadata": {
            "tags": [
              "id2-0-0",
              "outputarea_id2",
              "user_output"
            ]
          }
        },
        {
          "output_type": "display_data",
          "data": {
            "application/javascript": [
              "window[\"eb86b638-0b7a-11ea-a7f2-0242ac1c0002\"] = google.colab.output.setActiveOutputArea(window[\"eb5759ec-0b7a-11ea-a7f2-0242ac1c0002\"]);\n",
              "//# sourceURL=js_44694f98e6"
            ],
            "text/plain": [
              "<IPython.core.display.Javascript object>"
            ]
          },
          "metadata": {
            "tags": [
              "id2-0-0",
              "outputarea_id2"
            ]
          }
        },
        {
          "output_type": "display_data",
          "data": {
            "application/javascript": [
              "window[\"ebee05e0-0b7a-11ea-a7f2-0242ac1c0002\"] = google.colab.output.getActiveOutputArea();\n",
              "//# sourceURL=js_1823350de7"
            ],
            "text/plain": [
              "<IPython.core.display.Javascript object>"
            ]
          },
          "metadata": {
            "tags": [
              "id2-0-0",
              "outputarea_id2"
            ]
          }
        },
        {
          "output_type": "display_data",
          "data": {
            "application/javascript": [
              "window[\"ebee3a7e-0b7a-11ea-a7f2-0242ac1c0002\"] = document.querySelector(\"#id2-0-0\");\n",
              "//# sourceURL=js_23738bf5b9"
            ],
            "text/plain": [
              "<IPython.core.display.Javascript object>"
            ]
          },
          "metadata": {
            "tags": [
              "id2-0-0",
              "outputarea_id2"
            ]
          }
        },
        {
          "output_type": "display_data",
          "data": {
            "application/javascript": [
              "window[\"ebee656c-0b7a-11ea-a7f2-0242ac1c0002\"] = google.colab.output.setActiveOutputArea(window[\"ebee3a7e-0b7a-11ea-a7f2-0242ac1c0002\"]);\n",
              "//# sourceURL=js_af471bffe2"
            ],
            "text/plain": [
              "<IPython.core.display.Javascript object>"
            ]
          },
          "metadata": {
            "tags": [
              "id2-0-0",
              "outputarea_id2"
            ]
          }
        },
        {
          "output_type": "display_data",
          "data": {
            "image/png": "[encoded data removed]",
            "text/plain": [
              "<Figure size 2160x432 with 1 Axes>"
            ]
          },
          "metadata": {
            "tags": [
              "id2-0-0",
              "outputarea_id2",
              "user_output"
            ]
          }
        },
        {
          "output_type": "display_data",
          "data": {
            "application/javascript": [
              "window[\"ec1d4648-0b7a-11ea-a7f2-0242ac1c0002\"] = google.colab.output.setActiveOutputArea(window[\"ebee05e0-0b7a-11ea-a7f2-0242ac1c0002\"]);\n",
              "//# sourceURL=js_c54825b490"
            ],
            "text/plain": [
              "<IPython.core.display.Javascript object>"
            ]
          },
          "metadata": {
            "tags": [
              "id2-0-0",
              "outputarea_id2"
            ]
          }
        },
        {
          "output_type": "display_data",
          "data": {
            "application/javascript": [
              "window[\"ec853956-0b7a-11ea-a7f2-0242ac1c0002\"] = google.colab.output.getActiveOutputArea();\n",
              "//# sourceURL=js_43310779a2"
            ],
            "text/plain": [
              "<IPython.core.display.Javascript object>"
            ]
          },
          "metadata": {
            "tags": [
              "id2-0-0",
              "outputarea_id2"
            ]
          }
        },
        {
          "output_type": "display_data",
          "data": {
            "application/javascript": [
              "window[\"ec856ef8-0b7a-11ea-a7f2-0242ac1c0002\"] = document.querySelector(\"#id2-0-0\");\n",
              "//# sourceURL=js_41cd40d722"
            ],
            "text/plain": [
              "<IPython.core.display.Javascript object>"
            ]
          },
          "metadata": {
            "tags": [
              "id2-0-0",
              "outputarea_id2"
            ]
          }
        },
        {
          "output_type": "display_data",
          "data": {
            "application/javascript": [
              "window[\"ec85a292-0b7a-11ea-a7f2-0242ac1c0002\"] = google.colab.output.setActiveOutputArea(window[\"ec856ef8-0b7a-11ea-a7f2-0242ac1c0002\"]);\n",
              "//# sourceURL=js_fa09db6c0d"
            ],
            "text/plain": [
              "<IPython.core.display.Javascript object>"
            ]
          },
          "metadata": {
            "tags": [
              "id2-0-0",
              "outputarea_id2"
            ]
          }
        },
        {
          "output_type": "display_data",
          "data": {
            "image/png": "[encoded data removed]",
            "text/plain": [
              "<Figure size 2160x432 with 1 Axes>"
            ]
          },
          "metadata": {
            "tags": [
              "id2-0-0",
              "outputarea_id2",
              "user_output"
            ]
          }
        },
        {
          "output_type": "display_data",
          "data": {
            "application/javascript": [
              "window[\"ecb45c7c-0b7a-11ea-a7f2-0242ac1c0002\"] = google.colab.output.setActiveOutputArea(window[\"ec853956-0b7a-11ea-a7f2-0242ac1c0002\"]);\n",
              "//# sourceURL=js_e9283d8192"
            ],
            "text/plain": [
              "<IPython.core.display.Javascript object>"
            ]
          },
          "metadata": {
            "tags": [
              "id2-0-0",
              "outputarea_id2"
            ]
          }
        },
        {
          "output_type": "display_data",
          "data": {
            "application/javascript": [
              "window[\"ed1bdca8-0b7a-11ea-a7f2-0242ac1c0002\"] = google.colab.output.getActiveOutputArea();\n",
              "//# sourceURL=js_2cb060f293"
            ],
            "text/plain": [
              "<IPython.core.display.Javascript object>"
            ]
          },
          "metadata": {
            "tags": [
              "id2-0-0",
              "outputarea_id2"
            ]
          }
        },
        {
          "output_type": "display_data",
          "data": {
            "application/javascript": [
              "window[\"ed1c0e58-0b7a-11ea-a7f2-0242ac1c0002\"] = document.querySelector(\"#id2-0-0\");\n",
              "//# sourceURL=js_f7b5bb1194"
            ],
            "text/plain": [
              "<IPython.core.display.Javascript object>"
            ]
          },
          "metadata": {
            "tags": [
              "id2-0-0",
              "outputarea_id2"
            ]
          }
        },
        {
          "output_type": "display_data",
          "data": {
            "application/javascript": [
              "window[\"ed1c3a86-0b7a-11ea-a7f2-0242ac1c0002\"] = google.colab.output.setActiveOutputArea(window[\"ed1c0e58-0b7a-11ea-a7f2-0242ac1c0002\"]);\n",
              "//# sourceURL=js_a867107ce2"
            ],
            "text/plain": [
              "<IPython.core.display.Javascript object>"
            ]
          },
          "metadata": {
            "tags": [
              "id2-0-0",
              "outputarea_id2"
            ]
          }
        },
        {
          "output_type": "display_data",
          "data": {
            "image/png": "[encoded data removed]",
            "text/plain": [
              "<Figure size 2160x432 with 1 Axes>"
            ]
          },
          "metadata": {
            "tags": [
              "id2-0-0",
              "outputarea_id2",
              "user_output"
            ]
          }
        },
        {
          "output_type": "display_data",
          "data": {
            "application/javascript": [
              "window[\"ed4a8b48-0b7a-11ea-a7f2-0242ac1c0002\"] = google.colab.output.setActiveOutputArea(window[\"ed1bdca8-0b7a-11ea-a7f2-0242ac1c0002\"]);\n",
              "//# sourceURL=js_63ea88034d"
            ],
            "text/plain": [
              "<IPython.core.display.Javascript object>"
            ]
          },
          "metadata": {
            "tags": [
              "id2-0-0",
              "outputarea_id2"
            ]
          }
        },
        {
          "output_type": "display_data",
          "data": {
            "application/javascript": [
              "window[\"edb29d82-0b7a-11ea-a7f2-0242ac1c0002\"] = google.colab.output.getActiveOutputArea();\n",
              "//# sourceURL=js_be4234d9e3"
            ],
            "text/plain": [
              "<IPython.core.display.Javascript object>"
            ]
          },
          "metadata": {
            "tags": [
              "id2-0-0",
              "outputarea_id2"
            ]
          }
        },
        {
          "output_type": "display_data",
          "data": {
            "application/javascript": [
              "window[\"edb2d266-0b7a-11ea-a7f2-0242ac1c0002\"] = document.querySelector(\"#id2-0-0\");\n",
              "//# sourceURL=js_6eb5992fda"
            ],
            "text/plain": [
              "<IPython.core.display.Javascript object>"
            ]
          },
          "metadata": {
            "tags": [
              "id2-0-0",
              "outputarea_id2"
            ]
          }
        },
        {
          "output_type": "display_data",
          "data": {
            "application/javascript": [
              "window[\"edb30592-0b7a-11ea-a7f2-0242ac1c0002\"] = google.colab.output.setActiveOutputArea(window[\"edb2d266-0b7a-11ea-a7f2-0242ac1c0002\"]);\n",
              "//# sourceURL=js_ccc7e147be"
            ],
            "text/plain": [
              "<IPython.core.display.Javascript object>"
            ]
          },
          "metadata": {
            "tags": [
              "id2-0-0",
              "outputarea_id2"
            ]
          }
        },
        {
          "output_type": "display_data",
          "data": {
            "image/png": "[encoded data removed]",
            "text/plain": [
              "<Figure size 2160x432 with 1 Axes>"
            ]
          },
          "metadata": {
            "tags": [
              "id2-0-0",
              "outputarea_id2",
              "user_output"
            ]
          }
        },
        {
          "output_type": "display_data",
          "data": {
            "application/javascript": [
              "window[\"ede15b4a-0b7a-11ea-a7f2-0242ac1c0002\"] = google.colab.output.setActiveOutputArea(window[\"edb29d82-0b7a-11ea-a7f2-0242ac1c0002\"]);\n",
              "//# sourceURL=js_0296bd104c"
            ],
            "text/plain": [
              "<IPython.core.display.Javascript object>"
            ]
          },
          "metadata": {
            "tags": [
              "id2-0-0",
              "outputarea_id2"
            ]
          }
        },
        {
          "output_type": "error",
          "ename": "KeyboardInterrupt",
          "evalue": "ignored",
          "traceback": [
            "\u001b[0;31m---------------------------------------------------------------------------\u001b[0m",
            "\u001b[0;31mKeyboardInterrupt\u001b[0m                         Traceback (most recent call last)",
            "\u001b[0;32m<ipython-input-39-fefea2f5e062>\u001b[0m in \u001b[0;36m<module>\u001b[0;34m()\u001b[0m\n\u001b[1;32m     57\u001b[0m \u001b[0;34m\u001b[0m\u001b[0m\n\u001b[1;32m     58\u001b[0m \u001b[0mgrid\u001b[0m \u001b[0;34m=\u001b[0m \u001b[0mwidgets\u001b[0m\u001b[0;34m.\u001b[0m\u001b[0mGrid\u001b[0m\u001b[0;34m(\u001b[0m\u001b[0;36m1\u001b[0m\u001b[0;34m,\u001b[0m \u001b[0;36m1\u001b[0m\u001b[0;34m)\u001b[0m\u001b[0;34m\u001b[0m\u001b[0;34m\u001b[0m\u001b[0m\n\u001b[0;32m---> 59\u001b[0;31m \u001b[0mdrawStepFig\u001b[0m\u001b[0;34m(\u001b[0m\u001b[0;36m16\u001b[0m\u001b[0;34m,\u001b[0m \u001b[0;36m4\u001b[0m\u001b[0;34m,\u001b[0m \u001b[0mgrid\u001b[0m\u001b[0;34m)\u001b[0m\u001b[0;34m;\u001b[0m\u001b[0;34m\u001b[0m\u001b[0;34m\u001b[0m\u001b[0m\n\u001b[0m",
            "\u001b[0;32m<ipython-input-39-fefea2f5e062>\u001b[0m in \u001b[0;36mdrawStepFig\u001b[0;34m(trueCnt, estiCnt, grid)\u001b[0m\n\u001b[1;32m     40\u001b[0m     \u001b[0;32mfor\u001b[0m \u001b[0mday\u001b[0m \u001b[0;32min\u001b[0m \u001b[0mrange\u001b[0m\u001b[0;34m(\u001b[0m\u001b[0mestiCnt\u001b[0m \u001b[0;34m-\u001b[0m \u001b[0;36m1\u001b[0m\u001b[0;34m)\u001b[0m\u001b[0;34m:\u001b[0m\u001b[0;34m\u001b[0m\u001b[0;34m\u001b[0m\u001b[0m\n\u001b[1;32m     41\u001b[0m       \u001b[0mestiVals\u001b[0m\u001b[0;34m.\u001b[0m\u001b[0mappend\u001b[0m\u001b[0;34m(\u001b[0m\u001b[0mestiData\u001b[0m\u001b[0;34m[\u001b[0m\u001b[0;36m0\u001b[0m\u001b[0;34m]\u001b[0m\u001b[0;34m[\u001b[0m\u001b[0;36m0\u001b[0m\u001b[0;34m]\u001b[0m\u001b[0;34m.\u001b[0m\u001b[0mitem\u001b[0m\u001b[0;34m(\u001b[0m\u001b[0;34m)\u001b[0m\u001b[0;34m)\u001b[0m\u001b[0;34m\u001b[0m\u001b[0;34m\u001b[0m\u001b[0m\n\u001b[0;32m---> 42\u001b[0;31m       \u001b[0mestiData\u001b[0m\u001b[0;34m,\u001b[0m \u001b[0mh\u001b[0m\u001b[0;34m,\u001b[0m \u001b[0mc\u001b[0m \u001b[0;34m=\u001b[0m \u001b[0mpredictor\u001b[0m\u001b[0;34m(\u001b[0m\u001b[0mestiData\u001b[0m\u001b[0;34m,\u001b[0m \u001b[0mh\u001b[0m\u001b[0;34m,\u001b[0m \u001b[0mc\u001b[0m\u001b[0;34m)\u001b[0m\u001b[0;34m\u001b[0m\u001b[0;34m\u001b[0m\u001b[0m\n\u001b[0m\u001b[1;32m     43\u001b[0m     \u001b[0mestiVals\u001b[0m\u001b[0;34m.\u001b[0m\u001b[0mappend\u001b[0m\u001b[0;34m(\u001b[0m\u001b[0mestiData\u001b[0m\u001b[0;34m[\u001b[0m\u001b[0;36m0\u001b[0m\u001b[0;34m]\u001b[0m\u001b[0;34m[\u001b[0m\u001b[0;36m0\u001b[0m\u001b[0;34m]\u001b[0m\u001b[0;34m.\u001b[0m\u001b[0mitem\u001b[0m\u001b[0;34m(\u001b[0m\u001b[0;34m)\u001b[0m\u001b[0;34m)\u001b[0m\u001b[0;34m\u001b[0m\u001b[0;34m\u001b[0m\u001b[0m\n\u001b[1;32m     44\u001b[0m \u001b[0;34m\u001b[0m\u001b[0m\n",
            "\u001b[0;32m/usr/local/lib/python3.6/dist-packages/torch/nn/modules/module.py\u001b[0m in \u001b[0;36m__call__\u001b[0;34m(self, *input, **kwargs)\u001b[0m\n\u001b[1;32m    539\u001b[0m             \u001b[0mresult\u001b[0m \u001b[0;34m=\u001b[0m \u001b[0mself\u001b[0m\u001b[0;34m.\u001b[0m\u001b[0m_slow_forward\u001b[0m\u001b[0;34m(\u001b[0m\u001b[0;34m*\u001b[0m\u001b[0minput\u001b[0m\u001b[0;34m,\u001b[0m \u001b[0;34m**\u001b[0m\u001b[0mkwargs\u001b[0m\u001b[0;34m)\u001b[0m\u001b[0;34m\u001b[0m\u001b[0;34m\u001b[0m\u001b[0m\n\u001b[1;32m    540\u001b[0m         \u001b[0;32melse\u001b[0m\u001b[0;34m:\u001b[0m\u001b[0;34m\u001b[0m\u001b[0;34m\u001b[0m\u001b[0m\n\u001b[0;32m--> 541\u001b[0;31m             \u001b[0mresult\u001b[0m \u001b[0;34m=\u001b[0m \u001b[0mself\u001b[0m\u001b[0;34m.\u001b[0m\u001b[0mforward\u001b[0m\u001b[0;34m(\u001b[0m\u001b[0;34m*\u001b[0m\u001b[0minput\u001b[0m\u001b[0;34m,\u001b[0m \u001b[0;34m**\u001b[0m\u001b[0mkwargs\u001b[0m\u001b[0;34m)\u001b[0m\u001b[0;34m\u001b[0m\u001b[0;34m\u001b[0m\u001b[0m\n\u001b[0m\u001b[1;32m    542\u001b[0m         \u001b[0;32mfor\u001b[0m \u001b[0mhook\u001b[0m \u001b[0;32min\u001b[0m \u001b[0mself\u001b[0m\u001b[0;34m.\u001b[0m\u001b[0m_forward_hooks\u001b[0m\u001b[0;34m.\u001b[0m\u001b[0mvalues\u001b[0m\u001b[0;34m(\u001b[0m\u001b[0;34m)\u001b[0m\u001b[0;34m:\u001b[0m\u001b[0;34m\u001b[0m\u001b[0;34m\u001b[0m\u001b[0m\n\u001b[1;32m    543\u001b[0m             \u001b[0mhook_result\u001b[0m \u001b[0;34m=\u001b[0m \u001b[0mhook\u001b[0m\u001b[0;34m(\u001b[0m\u001b[0mself\u001b[0m\u001b[0;34m,\u001b[0m \u001b[0minput\u001b[0m\u001b[0;34m,\u001b[0m \u001b[0mresult\u001b[0m\u001b[0;34m)\u001b[0m\u001b[0;34m\u001b[0m\u001b[0;34m\u001b[0m\u001b[0m\n",
            "\u001b[0;32m<ipython-input-31-06ac60429129>\u001b[0m in \u001b[0;36mforward\u001b[0;34m(self, x, h, c)\u001b[0m\n\u001b[1;32m     19\u001b[0m       \u001b[0mh1\u001b[0m\u001b[0;34m,\u001b[0m \u001b[0mc1\u001b[0m \u001b[0;34m=\u001b[0m \u001b[0mself\u001b[0m\u001b[0;34m.\u001b[0m\u001b[0mlstm1\u001b[0m\u001b[0;34m(\u001b[0m\u001b[0mx\u001b[0m\u001b[0;34m)\u001b[0m\u001b[0;34m\u001b[0m\u001b[0;34m\u001b[0m\u001b[0m\n\u001b[1;32m     20\u001b[0m     \u001b[0;32melse\u001b[0m\u001b[0;34m:\u001b[0m\u001b[0;34m\u001b[0m\u001b[0;34m\u001b[0m\u001b[0m\n\u001b[0;32m---> 21\u001b[0;31m       \u001b[0mh1\u001b[0m\u001b[0;34m,\u001b[0m \u001b[0mc1\u001b[0m \u001b[0;34m=\u001b[0m \u001b[0mself\u001b[0m\u001b[0;34m.\u001b[0m\u001b[0mlstm1\u001b[0m\u001b[0;34m(\u001b[0m\u001b[0mx\u001b[0m\u001b[0;34m,\u001b[0m \u001b[0;34m(\u001b[0m\u001b[0mh1\u001b[0m\u001b[0;34m,\u001b[0m \u001b[0mc1\u001b[0m\u001b[0;34m)\u001b[0m\u001b[0;34m)\u001b[0m\u001b[0;34m\u001b[0m\u001b[0;34m\u001b[0m\u001b[0m\n\u001b[0m\u001b[1;32m     22\u001b[0m \u001b[0;34m\u001b[0m\u001b[0m\n\u001b[1;32m     23\u001b[0m     \u001b[0mh1\u001b[0m \u001b[0;34m=\u001b[0m \u001b[0mself\u001b[0m\u001b[0;34m.\u001b[0m\u001b[0mdropout\u001b[0m\u001b[0;34m(\u001b[0m\u001b[0mh1\u001b[0m\u001b[0;34m)\u001b[0m\u001b[0;34m\u001b[0m\u001b[0;34m\u001b[0m\u001b[0m\n",
            "\u001b[0;32m/usr/local/lib/python3.6/dist-packages/torch/nn/modules/module.py\u001b[0m in \u001b[0;36m__call__\u001b[0;34m(self, *input, **kwargs)\u001b[0m\n\u001b[1;32m    539\u001b[0m             \u001b[0mresult\u001b[0m \u001b[0;34m=\u001b[0m \u001b[0mself\u001b[0m\u001b[0;34m.\u001b[0m\u001b[0m_slow_forward\u001b[0m\u001b[0;34m(\u001b[0m\u001b[0;34m*\u001b[0m\u001b[0minput\u001b[0m\u001b[0;34m,\u001b[0m \u001b[0;34m**\u001b[0m\u001b[0mkwargs\u001b[0m\u001b[0;34m)\u001b[0m\u001b[0;34m\u001b[0m\u001b[0;34m\u001b[0m\u001b[0m\n\u001b[1;32m    540\u001b[0m         \u001b[0;32melse\u001b[0m\u001b[0;34m:\u001b[0m\u001b[0;34m\u001b[0m\u001b[0;34m\u001b[0m\u001b[0m\n\u001b[0;32m--> 541\u001b[0;31m             \u001b[0mresult\u001b[0m \u001b[0;34m=\u001b[0m \u001b[0mself\u001b[0m\u001b[0;34m.\u001b[0m\u001b[0mforward\u001b[0m\u001b[0;34m(\u001b[0m\u001b[0;34m*\u001b[0m\u001b[0minput\u001b[0m\u001b[0;34m,\u001b[0m \u001b[0;34m**\u001b[0m\u001b[0mkwargs\u001b[0m\u001b[0;34m)\u001b[0m\u001b[0;34m\u001b[0m\u001b[0;34m\u001b[0m\u001b[0m\n\u001b[0m\u001b[1;32m    542\u001b[0m         \u001b[0;32mfor\u001b[0m \u001b[0mhook\u001b[0m \u001b[0;32min\u001b[0m \u001b[0mself\u001b[0m\u001b[0;34m.\u001b[0m\u001b[0m_forward_hooks\u001b[0m\u001b[0;34m.\u001b[0m\u001b[0mvalues\u001b[0m\u001b[0;34m(\u001b[0m\u001b[0;34m)\u001b[0m\u001b[0;34m:\u001b[0m\u001b[0;34m\u001b[0m\u001b[0;34m\u001b[0m\u001b[0m\n\u001b[1;32m    543\u001b[0m             \u001b[0mhook_result\u001b[0m \u001b[0;34m=\u001b[0m \u001b[0mhook\u001b[0m\u001b[0;34m(\u001b[0m\u001b[0mself\u001b[0m\u001b[0;34m,\u001b[0m \u001b[0minput\u001b[0m\u001b[0;34m,\u001b[0m \u001b[0mresult\u001b[0m\u001b[0;34m)\u001b[0m\u001b[0;34m\u001b[0m\u001b[0;34m\u001b[0m\u001b[0m\n",
            "\u001b[0;32m/usr/local/lib/python3.6/dist-packages/torch/nn/modules/rnn.py\u001b[0m in \u001b[0;36mforward\u001b[0;34m(self, input, hx)\u001b[0m\n\u001b[1;32m    943\u001b[0m             \u001b[0minput\u001b[0m\u001b[0;34m,\u001b[0m \u001b[0mhx\u001b[0m\u001b[0;34m,\u001b[0m\u001b[0;34m\u001b[0m\u001b[0;34m\u001b[0m\u001b[0m\n\u001b[1;32m    944\u001b[0m             \u001b[0mself\u001b[0m\u001b[0;34m.\u001b[0m\u001b[0mweight_ih\u001b[0m\u001b[0;34m,\u001b[0m \u001b[0mself\u001b[0m\u001b[0;34m.\u001b[0m\u001b[0mweight_hh\u001b[0m\u001b[0;34m,\u001b[0m\u001b[0;34m\u001b[0m\u001b[0;34m\u001b[0m\u001b[0m\n\u001b[0;32m--> 945\u001b[0;31m             \u001b[0mself\u001b[0m\u001b[0;34m.\u001b[0m\u001b[0mbias_ih\u001b[0m\u001b[0;34m,\u001b[0m \u001b[0mself\u001b[0m\u001b[0;34m.\u001b[0m\u001b[0mbias_hh\u001b[0m\u001b[0;34m,\u001b[0m\u001b[0;34m\u001b[0m\u001b[0;34m\u001b[0m\u001b[0m\n\u001b[0m\u001b[1;32m    946\u001b[0m         )\n\u001b[1;32m    947\u001b[0m \u001b[0;34m\u001b[0m\u001b[0m\n",
            "\u001b[0;31mKeyboardInterrupt\u001b[0m: "
          ]
        }
      ]
    },
    {
      "cell_type": "code",
      "metadata": {
        "id": "22ptKMx_jv2s",
        "colab_type": "code",
        "colab": {}
      },
      "source": [
        "import plotly"
      ],
      "execution_count": 0,
      "outputs": []
    },
    {
      "cell_type": "code",
      "metadata": {
        "id": "uKeWcUuq8zr5",
        "colab_type": "code",
        "colab": {}
      },
      "source": [
        ""
      ],
      "execution_count": 0,
      "outputs": []
    }
  ]
}